{
 "cells": [
  {
   "cell_type": "code",
   "execution_count": 1,
   "metadata": {},
   "outputs": [],
   "source": [
    "import numpy as np\n",
    "import face_recognition\n",
    "import keras\n",
    "from keras.models import load_model\n",
    "import cv2\n",
    "import dlib\n",
    "import os\n",
    "import keyboard"
   ]
  },
  {
   "cell_type": "code",
   "execution_count": 2,
   "metadata": {},
   "outputs": [],
   "source": [
    "path = r\"C:\\Users\\KIIT\\Downloads\\test_images\"\n",
    "\n",
    "def analyze():\n",
    "    print(\"analyze is called\")\n",
    "    for image in os.listdir(path):\n",
    "            imgPath = path+\"\\\\\"+image\n",
    "            print(imgPath)\n",
    "            try:\n",
    "                image1 = face_recognition.load_image_file(imgPath)\n",
    "\n",
    "                encoding_1 = face_recognition.face_encodings(image1)[0]\n",
    "\n",
    "                encoding_2 = face_recognition.face_encodings(img)[0]\n",
    "\n",
    "                results = face_recognition.compare_faces([encoding_1], encoding_2,tolerance=0.50)\n",
    "                print(results)\n",
    "                if results[0] == True:\n",
    "                    print(\"Match found\") \n",
    "                    break\n",
    "            except:\n",
    "                pass"
   ]
  },
  {
   "cell_type": "code",
   "execution_count": null,
   "metadata": {},
   "outputs": [],
   "source": []
  },
  {
   "cell_type": "code",
   "execution_count": 3,
   "metadata": {},
   "outputs": [
    {
     "name": "stdout",
     "output_type": "stream",
     "text": [
      "analyze is called\n",
      "C:\\Users\\KIIT\\Downloads\\test_images\\040wrmpyTF5l.jpg\n",
      "[False]\n",
      "C:\\Users\\KIIT\\Downloads\\test_images\\20180901150822_new.jpg\n",
      "[False]\n",
      "C:\\Users\\KIIT\\Downloads\\test_images\\39.jpg\n",
      "C:\\Users\\KIIT\\Downloads\\test_images\\index1.jpg\n",
      "[False]\n",
      "C:\\Users\\KIIT\\Downloads\\test_images\\index2.jpeg\n",
      "[False]\n",
      "C:\\Users\\KIIT\\Downloads\\test_images\\me.jpeg\n",
      "[True]\n",
      "Match found\n",
      "analyze is called\n",
      "C:\\Users\\KIIT\\Downloads\\test_images\\040wrmpyTF5l.jpg\n",
      "[False]\n",
      "C:\\Users\\KIIT\\Downloads\\test_images\\20180901150822_new.jpg\n",
      "[False]\n",
      "C:\\Users\\KIIT\\Downloads\\test_images\\39.jpg\n",
      "C:\\Users\\KIIT\\Downloads\\test_images\\index1.jpg\n",
      "[False]\n",
      "C:\\Users\\KIIT\\Downloads\\test_images\\index2.jpeg\n",
      "[False]\n",
      "C:\\Users\\KIIT\\Downloads\\test_images\\me.jpeg\n",
      "[True]\n",
      "Match found\n"
     ]
    }
   ],
   "source": [
    "cap = cv2.VideoCapture(0)\n",
    "detector = dlib.get_frontal_face_detector()\n",
    "predictor = dlib.shape_predictor('shape_predictor_68_face_landmarks.dat')\n",
    "count = 0\n",
    "while cap.isOpened():\n",
    "    _, img = cap.read()\n",
    "    gray = cv2.cvtColor(img, cv2.COLOR_BGR2GRAY)\n",
    "    faces = detector(gray)\n",
    "    imgBlack = np.zeros((480, 640), np.uint8)\n",
    "        \n",
    "    try:\n",
    "        if keyboard.is_pressed('a'):\n",
    "            analyze()\n",
    "            \n",
    "        if keyboard.is_pressed('q'):\n",
    "            cap.release()\n",
    "            cv2.destroyAllWindows()\n",
    "            break\n",
    "    except Exception as e:\n",
    "        print(e)"
   ]
  }
 ],
 "metadata": {
  "kernelspec": {
   "display_name": "Python 3",
   "language": "python",
   "name": "python3"
  },
  "language_info": {
   "codemirror_mode": {
    "name": "ipython",
    "version": 3
   },
   "file_extension": ".py",
   "mimetype": "text/x-python",
   "name": "python",
   "nbconvert_exporter": "python",
   "pygments_lexer": "ipython3",
   "version": "3.7.6"
  }
 },
 "nbformat": 4,
 "nbformat_minor": 4
}
